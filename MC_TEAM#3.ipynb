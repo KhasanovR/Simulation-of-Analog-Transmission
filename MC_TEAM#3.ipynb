{
 "cells": [
  {
   "cell_type": "code",
   "execution_count": 1,
   "metadata": {
    "scrolled": false
   },
   "outputs": [
    {
     "ename": "ModuleNotFoundError",
     "evalue": "No module named 'cv2'",
     "output_type": "error",
     "traceback": [
      "\u001b[0;31m---------------------------------------------------------------------------\u001b[0m",
      "\u001b[0;31mModuleNotFoundError\u001b[0m                       Traceback (most recent call last)",
      "\u001b[0;32m<ipython-input-1-6b3dca0babaa>\u001b[0m in \u001b[0;36m<module>\u001b[0;34m\u001b[0m\n\u001b[0;32m----> 1\u001b[0;31m \u001b[0;32mimport\u001b[0m \u001b[0mcv2\u001b[0m\u001b[0;34m\u001b[0m\u001b[0;34m\u001b[0m\u001b[0m\n\u001b[0m\u001b[1;32m      2\u001b[0m \u001b[0;32mimport\u001b[0m \u001b[0mnumpy\u001b[0m \u001b[0;32mas\u001b[0m \u001b[0mnp\u001b[0m\u001b[0;34m\u001b[0m\u001b[0;34m\u001b[0m\u001b[0m\n\u001b[1;32m      3\u001b[0m \u001b[0;32mimport\u001b[0m \u001b[0mmatplotlib\u001b[0m\u001b[0;34m.\u001b[0m\u001b[0mpyplot\u001b[0m \u001b[0;32mas\u001b[0m \u001b[0mplt\u001b[0m\u001b[0;34m\u001b[0m\u001b[0;34m\u001b[0m\u001b[0m\n\u001b[1;32m      4\u001b[0m \u001b[0;32mimport\u001b[0m \u001b[0mmatplotlib\u001b[0m\u001b[0;34m.\u001b[0m\u001b[0mimage\u001b[0m \u001b[0;32mas\u001b[0m \u001b[0mmpimg\u001b[0m\u001b[0;34m\u001b[0m\u001b[0;34m\u001b[0m\u001b[0m\n",
      "\u001b[0;31mModuleNotFoundError\u001b[0m: No module named 'cv2'"
     ]
    }
   ],
   "source": [
    "import cv2\n",
    "import numpy as np\n",
    "import matplotlib.pyplot as plt\n",
    "import matplotlib.image as mpimg"
   ]
  },
  {
   "cell_type": "code",
   "execution_count": null,
   "metadata": {},
   "outputs": [],
   "source": [
    "time = np.arange(0, 2*np.pi, np.pi/100)"
   ]
  },
  {
   "cell_type": "code",
   "execution_count": null,
   "metadata": {},
   "outputs": [],
   "source": [
    "def bpsk(binString):\n",
    "    amplitude = []\n",
    "    for i in range(len(binString)):\n",
    "        if binString[i] == '1': \n",
    "            amplitude.append(np.sin(time))\n",
    "        else : \n",
    "            amplitude.append(-np.sin(time))\n",
    "    return amplitude"
   ]
  },
  {
   "cell_type": "code",
   "execution_count": null,
   "metadata": {},
   "outputs": [],
   "source": [
    "carr = np.sin(time)\n",
    "def bpsk_demod(signal, L):\n",
    "    d = ''\n",
    "    for i in range(0, len(signal), L):\n",
    "        sum = np.sum([signal[i+j]*carr[j] for j in range(L)])\n",
    "        if sum >= 0:\n",
    "            d += '1'\n",
    "        else:\n",
    "            d += '0'\n",
    "    return d"
   ]
  },
  {
   "cell_type": "code",
   "execution_count": null,
   "metadata": {},
   "outputs": [],
   "source": [
    "def awgn(signal, regsnr):\n",
    "    noise = np.random.randn(len(signal))\n",
    "    noise_var = 0.5*10**(-regsnr/10)\n",
    "    Chan_Noise = noise * np.sqrt(noise_var)\n",
    "    return Chan_Noise"
   ]
  },
  {
   "cell_type": "code",
   "execution_count": null,
   "metadata": {},
   "outputs": [],
   "source": [
    "def NEB(binString, demodBinString):\n",
    "    return sum(1 for a, b in zip(binString, demodBinString)\\\n",
    "               if a != b) + abs(len(binString) - len(demodBinString))"
   ]
  },
  {
   "cell_type": "code",
   "execution_count": null,
   "metadata": {},
   "outputs": [],
   "source": [
    "def normalize(y):\n",
    "    return y / np.sqrt(np.sum(y**2)/len(y))"
   ]
  },
  {
   "cell_type": "code",
   "execution_count": null,
   "metadata": {},
   "outputs": [],
   "source": [
    "def simulate(SNR, file):\n",
    "    pix = cv2.imread(file)\n",
    "    height, width, channels = pix.shape\n",
    "    demod_img = np.zeros((height, width, channels))\n",
    "    BER = 0\n",
    "    for i in range(height):\n",
    "        for j in range(width):\n",
    "            rgb=pix[i][j]\n",
    "            binString=''\n",
    "            for k in np.arange(3):\n",
    "                binary = bin(rgb[k])[2:].zfill(8)\n",
    "                binString += binary\n",
    "            signal = np.array(bpsk(binString)).flatten()\n",
    "#             %matplotlib inline\n",
    "#             plt.figure()\n",
    "#             plt.plot(signal)\n",
    "#             plt.show() \n",
    "            nsignal = awgn(signal, SNR)+signal\n",
    "#             %matplotlib inline\n",
    "#             plt.figure()\n",
    "#             plt.plot(nsignal+signal)\n",
    "#             plt.show()\n",
    "            demodBinString = bpsk_demod( nsignal, 200)\n",
    "            demod_img[i][j] = [int(demodBinString[0:8],2),\n",
    "                               int(demodBinString[8:16],2),\n",
    "                               int(demodBinString[16:24],2)]\n",
    "            BER += NEB(binString,demodBinString)\n",
    "    \n",
    "    cv2.imwrite('photo_'+str(SNR)+'.jpg', demod_img)\n",
    "\n",
    "    img = mpimg.imread(file)\n",
    "    fig = plt.figure()\n",
    "    a = fig.add_subplot(1, 2, 1)\n",
    "    imgplot = plt.imshow(img)\n",
    "    a.set_title('Before')\n",
    "    \n",
    "    img = mpimg.imread('photo_'+str(SNR)+'.jpg')\n",
    "    a = fig.add_subplot(1, 2, 2)\n",
    "    imgplot = plt.imshow(img)\n",
    "    a.set_title('After')\n",
    "    \n",
    "    return BER/(height*width*channels*8)"
   ]
  },
  {
   "cell_type": "code",
   "execution_count": null,
   "metadata": {
    "scrolled": true
   },
   "outputs": [],
   "source": [
    "%matplotlib inline\n",
    "file = 'img.jpg'\n",
    "simulate(-15,file)"
   ]
  },
  {
   "cell_type": "code",
   "execution_count": null,
   "metadata": {},
   "outputs": [],
   "source": [
    "BER = []\n",
    "for i in range(-10,11,5):\n",
    "    %matplotlib inline\n",
    "    BER.append(simulate(i, file))"
   ]
  },
  {
   "cell_type": "code",
   "execution_count": null,
   "metadata": {},
   "outputs": [],
   "source": [
    "%matplotlib inline\n",
    "plt.figure()\n",
    "plt.grid()\n",
    "plt.semilogy(range(-10,11,5), BER)\n",
    "plt.show()"
   ]
  }
 ],
 "metadata": {
  "kernelspec": {
   "display_name": "Python 3",
   "language": "python",
   "name": "python3"
  },
  "language_info": {
   "codemirror_mode": {
    "name": "ipython",
    "version": 3
   },
   "file_extension": ".py",
   "mimetype": "text/x-python",
   "name": "python",
   "nbconvert_exporter": "python",
   "pygments_lexer": "ipython3",
   "version": "3.7.6"
  }
 },
 "nbformat": 4,
 "nbformat_minor": 2
}
